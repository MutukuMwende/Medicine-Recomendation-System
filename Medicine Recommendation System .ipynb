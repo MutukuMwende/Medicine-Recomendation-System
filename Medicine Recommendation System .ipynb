{
 "cells": [
  {
   "cell_type": "code",
   "execution_count": 1,
   "id": "737eb07b-56c5-449a-8cc8-f094adc98569",
   "metadata": {},
   "outputs": [],
   "source": [
    "import pandas as pd\n",
    "import numpy as np"
   ]
  },
  {
   "cell_type": "code",
   "execution_count": 2,
   "id": "7e79a0a6-90ec-4cce-ab04-0b8a1151adf5",
   "metadata": {},
   "outputs": [],
   "source": [
    "data = pd.read_csv(\"medicine.csv\")"
   ]
  },
  {
   "cell_type": "code",
   "execution_count": 3,
   "id": "996d641d-339b-4266-a8eb-2a402e8e87c3",
   "metadata": {},
   "outputs": [
    {
     "data": {
      "text/html": [
       "<div>\n",
       "<style scoped>\n",
       "    .dataframe tbody tr th:only-of-type {\n",
       "        vertical-align: middle;\n",
       "    }\n",
       "\n",
       "    .dataframe tbody tr th {\n",
       "        vertical-align: top;\n",
       "    }\n",
       "\n",
       "    .dataframe thead th {\n",
       "        text-align: right;\n",
       "    }\n",
       "</style>\n",
       "<table border=\"1\" class=\"dataframe\">\n",
       "  <thead>\n",
       "    <tr style=\"text-align: right;\">\n",
       "      <th></th>\n",
       "      <th>index</th>\n",
       "      <th>Drug_Name</th>\n",
       "      <th>Reason</th>\n",
       "      <th>Description</th>\n",
       "    </tr>\n",
       "  </thead>\n",
       "  <tbody>\n",
       "    <tr>\n",
       "      <th>0</th>\n",
       "      <td>1</td>\n",
       "      <td>A CN Gel(Topical) 20gmA CN Soap 75gm</td>\n",
       "      <td>Acne</td>\n",
       "      <td>Mild to moderate acne (spots)</td>\n",
       "    </tr>\n",
       "    <tr>\n",
       "      <th>1</th>\n",
       "      <td>2</td>\n",
       "      <td>A Ret 0.05% Gel 20gmA Ret 0.1% Gel 20gmA Ret 0...</td>\n",
       "      <td>Acne</td>\n",
       "      <td>A RET 0.025% is a prescription medicine that i...</td>\n",
       "    </tr>\n",
       "    <tr>\n",
       "      <th>2</th>\n",
       "      <td>3</td>\n",
       "      <td>ACGEL CL NANO Gel 15gm</td>\n",
       "      <td>Acne</td>\n",
       "      <td>It is used to treat acne vulgaris in people 12...</td>\n",
       "    </tr>\n",
       "    <tr>\n",
       "      <th>3</th>\n",
       "      <td>4</td>\n",
       "      <td>ACGEL NANO Gel 15gm</td>\n",
       "      <td>Acne</td>\n",
       "      <td>It is used to treat acne vulgaris in people 12...</td>\n",
       "    </tr>\n",
       "    <tr>\n",
       "      <th>4</th>\n",
       "      <td>5</td>\n",
       "      <td>Acleen 1% Lotion 25ml</td>\n",
       "      <td>Acne</td>\n",
       "      <td>treat the most severe form of acne (nodular ac...</td>\n",
       "    </tr>\n",
       "  </tbody>\n",
       "</table>\n",
       "</div>"
      ],
      "text/plain": [
       "   index                                          Drug_Name Reason  \\\n",
       "0      1               A CN Gel(Topical) 20gmA CN Soap 75gm   Acne   \n",
       "1      2  A Ret 0.05% Gel 20gmA Ret 0.1% Gel 20gmA Ret 0...   Acne   \n",
       "2      3                             ACGEL CL NANO Gel 15gm   Acne   \n",
       "3      4                                ACGEL NANO Gel 15gm   Acne   \n",
       "4      5                              Acleen 1% Lotion 25ml   Acne   \n",
       "\n",
       "                                         Description  \n",
       "0                      Mild to moderate acne (spots)  \n",
       "1  A RET 0.025% is a prescription medicine that i...  \n",
       "2  It is used to treat acne vulgaris in people 12...  \n",
       "3  It is used to treat acne vulgaris in people 12...  \n",
       "4  treat the most severe form of acne (nodular ac...  "
      ]
     },
     "execution_count": 3,
     "metadata": {},
     "output_type": "execute_result"
    }
   ],
   "source": [
    "data.head()"
   ]
  },
  {
   "cell_type": "code",
   "execution_count": 4,
   "id": "10301497-ba48-4d0b-9ea8-5e389cbe7979",
   "metadata": {},
   "outputs": [
    {
     "data": {
      "text/plain": [
       "(9720, 4)"
      ]
     },
     "execution_count": 4,
     "metadata": {},
     "output_type": "execute_result"
    }
   ],
   "source": [
    "data.shape"
   ]
  },
  {
   "cell_type": "code",
   "execution_count": 5,
   "id": "5d7bde83-1661-485c-844e-d386790f2d29",
   "metadata": {},
   "outputs": [
    {
     "data": {
      "text/plain": [
       "index          0\n",
       "Drug_Name      0\n",
       "Reason         0\n",
       "Description    0\n",
       "dtype: int64"
      ]
     },
     "execution_count": 5,
     "metadata": {},
     "output_type": "execute_result"
    }
   ],
   "source": [
    "data.isnull().sum()"
   ]
  },
  {
   "cell_type": "code",
   "execution_count": 6,
   "id": "0d3445bf-1ee9-4441-b376-85eacc47a14a",
   "metadata": {},
   "outputs": [],
   "source": [
    "data.dropna(inplace=True)"
   ]
  },
  {
   "cell_type": "code",
   "execution_count": 7,
   "id": "36901a97-edc5-44e4-9b41-ee9213008ba8",
   "metadata": {},
   "outputs": [
    {
     "data": {
      "text/plain": [
       "0"
      ]
     },
     "execution_count": 7,
     "metadata": {},
     "output_type": "execute_result"
    }
   ],
   "source": [
    "data.duplicated().sum()"
   ]
  },
  {
   "cell_type": "code",
   "execution_count": 8,
   "id": "66c46f9b-9e23-4642-91a3-3334b3e1324d",
   "metadata": {},
   "outputs": [
    {
     "data": {
      "text/html": [
       "<div>\n",
       "<style scoped>\n",
       "    .dataframe tbody tr th:only-of-type {\n",
       "        vertical-align: middle;\n",
       "    }\n",
       "\n",
       "    .dataframe tbody tr th {\n",
       "        vertical-align: top;\n",
       "    }\n",
       "\n",
       "    .dataframe thead th {\n",
       "        text-align: right;\n",
       "    }\n",
       "</style>\n",
       "<table border=\"1\" class=\"dataframe\">\n",
       "  <thead>\n",
       "    <tr style=\"text-align: right;\">\n",
       "      <th></th>\n",
       "      <th>index</th>\n",
       "    </tr>\n",
       "  </thead>\n",
       "  <tbody>\n",
       "    <tr>\n",
       "      <th>count</th>\n",
       "      <td>9720.000000</td>\n",
       "    </tr>\n",
       "    <tr>\n",
       "      <th>mean</th>\n",
       "      <td>4860.500000</td>\n",
       "    </tr>\n",
       "    <tr>\n",
       "      <th>std</th>\n",
       "      <td>2806.066642</td>\n",
       "    </tr>\n",
       "    <tr>\n",
       "      <th>min</th>\n",
       "      <td>1.000000</td>\n",
       "    </tr>\n",
       "    <tr>\n",
       "      <th>25%</th>\n",
       "      <td>2430.750000</td>\n",
       "    </tr>\n",
       "    <tr>\n",
       "      <th>50%</th>\n",
       "      <td>4860.500000</td>\n",
       "    </tr>\n",
       "    <tr>\n",
       "      <th>75%</th>\n",
       "      <td>7290.250000</td>\n",
       "    </tr>\n",
       "    <tr>\n",
       "      <th>max</th>\n",
       "      <td>9720.000000</td>\n",
       "    </tr>\n",
       "  </tbody>\n",
       "</table>\n",
       "</div>"
      ],
      "text/plain": [
       "             index\n",
       "count  9720.000000\n",
       "mean   4860.500000\n",
       "std    2806.066642\n",
       "min       1.000000\n",
       "25%    2430.750000\n",
       "50%    4860.500000\n",
       "75%    7290.250000\n",
       "max    9720.000000"
      ]
     },
     "execution_count": 8,
     "metadata": {},
     "output_type": "execute_result"
    }
   ],
   "source": [
    "data.describe()"
   ]
  },
  {
   "cell_type": "code",
   "execution_count": 9,
   "id": "f2f9d239-bd66-4e35-898c-4feda0e66acd",
   "metadata": {},
   "outputs": [
    {
     "name": "stdout",
     "output_type": "stream",
     "text": [
      "<class 'pandas.core.frame.DataFrame'>\n",
      "RangeIndex: 9720 entries, 0 to 9719\n",
      "Data columns (total 4 columns):\n",
      " #   Column       Non-Null Count  Dtype \n",
      "---  ------       --------------  ----- \n",
      " 0   index        9720 non-null   int64 \n",
      " 1   Drug_Name    9720 non-null   object\n",
      " 2   Reason       9720 non-null   object\n",
      " 3   Description  9720 non-null   object\n",
      "dtypes: int64(1), object(3)\n",
      "memory usage: 303.9+ KB\n"
     ]
    }
   ],
   "source": [
    "data.info()"
   ]
  },
  {
   "cell_type": "code",
   "execution_count": 10,
   "id": "0cc2b693-fa5f-46c3-8f3e-a9f4b4eb05f1",
   "metadata": {},
   "outputs": [
    {
     "data": {
      "text/plain": [
       "0                           Mild to moderate acne (spots)\n",
       "1       A RET 0.025% is a prescription medicine that i...\n",
       "2       It is used to treat acne vulgaris in people 12...\n",
       "3       It is used to treat acne vulgaris in people 12...\n",
       "4       treat the most severe form of acne (nodular ac...\n",
       "                              ...                        \n",
       "9715                              used for treating warts\n",
       "9716                        used to soften the skin cells\n",
       "9717                                       used for scars\n",
       "9718                                      used for wounds\n",
       "9719    used to treat and remove raised warts (usually...\n",
       "Name: Description, Length: 9720, dtype: object"
      ]
     },
     "execution_count": 10,
     "metadata": {},
     "output_type": "execute_result"
    }
   ],
   "source": [
    "data['Description']"
   ]
  },
  {
   "cell_type": "code",
   "execution_count": 11,
   "id": "529cecb3-c874-4746-836e-8387a9cf78d2",
   "metadata": {},
   "outputs": [
    {
     "data": {
      "text/plain": [
       "0                     [Mild, to, moderate, acne, (spots)]\n",
       "1       [A, RET, 0.025%, is, a, prescription, medicine...\n",
       "2       [It, is, used, to, treat, acne, vulgaris, in, ...\n",
       "3       [It, is, used, to, treat, acne, vulgaris, in, ...\n",
       "4       [treat, the, most, severe, form, of, acne, (no...\n",
       "                              ...                        \n",
       "9715                         [used, for, treating, warts]\n",
       "9716                 [used, to, soften, the, skin, cells]\n",
       "9717                                   [used, for, scars]\n",
       "9718                                  [used, for, wounds]\n",
       "9719    [used, to, treat, and, remove, raised, warts, ...\n",
       "Name: Description, Length: 9720, dtype: object"
      ]
     },
     "execution_count": 11,
     "metadata": {},
     "output_type": "execute_result"
    }
   ],
   "source": [
    "data['Description'].apply(lambda x : x.split())"
   ]
  },
  {
   "cell_type": "code",
   "execution_count": 12,
   "id": "184eb12b-a220-43ba-8d84-0df316739274",
   "metadata": {},
   "outputs": [],
   "source": [
    "data['Description'] = data['Description'].apply(lambda x : x.split())\n",
    "data['Reason'] = data['Reason'].apply(lambda x : x.split())"
   ]
  },
  {
   "cell_type": "code",
   "execution_count": 13,
   "id": "5608f78e-4507-423d-b437-d23dcba677b5",
   "metadata": {},
   "outputs": [
    {
     "data": {
      "text/html": [
       "<div>\n",
       "<style scoped>\n",
       "    .dataframe tbody tr th:only-of-type {\n",
       "        vertical-align: middle;\n",
       "    }\n",
       "\n",
       "    .dataframe tbody tr th {\n",
       "        vertical-align: top;\n",
       "    }\n",
       "\n",
       "    .dataframe thead th {\n",
       "        text-align: right;\n",
       "    }\n",
       "</style>\n",
       "<table border=\"1\" class=\"dataframe\">\n",
       "  <thead>\n",
       "    <tr style=\"text-align: right;\">\n",
       "      <th></th>\n",
       "      <th>index</th>\n",
       "      <th>Drug_Name</th>\n",
       "      <th>Reason</th>\n",
       "      <th>Description</th>\n",
       "    </tr>\n",
       "  </thead>\n",
       "  <tbody>\n",
       "    <tr>\n",
       "      <th>9715</th>\n",
       "      <td>9716</td>\n",
       "      <td>T Muce Ointment 5gm</td>\n",
       "      <td>[Wound]</td>\n",
       "      <td>[used, for, treating, warts]</td>\n",
       "    </tr>\n",
       "    <tr>\n",
       "      <th>9716</th>\n",
       "      <td>9717</td>\n",
       "      <td>Wokadine 10% Solution 100mlWokadine Solution 5...</td>\n",
       "      <td>[Wound]</td>\n",
       "      <td>[used, to, soften, the, skin, cells]</td>\n",
       "    </tr>\n",
       "    <tr>\n",
       "      <th>9717</th>\n",
       "      <td>9718</td>\n",
       "      <td>Wokadine M Onit 10gm</td>\n",
       "      <td>[Wound]</td>\n",
       "      <td>[used, for, scars]</td>\n",
       "    </tr>\n",
       "    <tr>\n",
       "      <th>9718</th>\n",
       "      <td>9719</td>\n",
       "      <td>Wound Fix Solution 100ml</td>\n",
       "      <td>[Wound]</td>\n",
       "      <td>[used, for, wounds]</td>\n",
       "    </tr>\n",
       "    <tr>\n",
       "      <th>9719</th>\n",
       "      <td>9720</td>\n",
       "      <td>Wounsol Ointment 15gm</td>\n",
       "      <td>[Wound]</td>\n",
       "      <td>[used, to, treat, and, remove, raised, warts, ...</td>\n",
       "    </tr>\n",
       "  </tbody>\n",
       "</table>\n",
       "</div>"
      ],
      "text/plain": [
       "      index                                          Drug_Name   Reason  \\\n",
       "9715   9716                                T Muce Ointment 5gm  [Wound]   \n",
       "9716   9717  Wokadine 10% Solution 100mlWokadine Solution 5...  [Wound]   \n",
       "9717   9718                               Wokadine M Onit 10gm  [Wound]   \n",
       "9718   9719                           Wound Fix Solution 100ml  [Wound]   \n",
       "9719   9720                              Wounsol Ointment 15gm  [Wound]   \n",
       "\n",
       "                                            Description  \n",
       "9715                       [used, for, treating, warts]  \n",
       "9716               [used, to, soften, the, skin, cells]  \n",
       "9717                                 [used, for, scars]  \n",
       "9718                                [used, for, wounds]  \n",
       "9719  [used, to, treat, and, remove, raised, warts, ...  "
      ]
     },
     "execution_count": 13,
     "metadata": {},
     "output_type": "execute_result"
    }
   ],
   "source": [
    "data.tail()"
   ]
  },
  {
   "cell_type": "code",
   "execution_count": 14,
   "id": "7ed9f1ab-7cdc-42bd-a9d8-799a7684e060",
   "metadata": {},
   "outputs": [
    {
     "data": {
      "text/html": [
       "<div>\n",
       "<style scoped>\n",
       "    .dataframe tbody tr th:only-of-type {\n",
       "        vertical-align: middle;\n",
       "    }\n",
       "\n",
       "    .dataframe tbody tr th {\n",
       "        vertical-align: top;\n",
       "    }\n",
       "\n",
       "    .dataframe thead th {\n",
       "        text-align: right;\n",
       "    }\n",
       "</style>\n",
       "<table border=\"1\" class=\"dataframe\">\n",
       "  <thead>\n",
       "    <tr style=\"text-align: right;\">\n",
       "      <th></th>\n",
       "      <th>index</th>\n",
       "      <th>Drug_Name</th>\n",
       "      <th>Reason</th>\n",
       "      <th>Description</th>\n",
       "    </tr>\n",
       "  </thead>\n",
       "  <tbody>\n",
       "    <tr>\n",
       "      <th>0</th>\n",
       "      <td>1</td>\n",
       "      <td>A CN Gel(Topical) 20gmA CN Soap 75gm</td>\n",
       "      <td>[Acne]</td>\n",
       "      <td>[Mild, to, moderate, acne, (spots)]</td>\n",
       "    </tr>\n",
       "    <tr>\n",
       "      <th>1</th>\n",
       "      <td>2</td>\n",
       "      <td>A Ret 0.05% Gel 20gmA Ret 0.1% Gel 20gmA Ret 0...</td>\n",
       "      <td>[Acne]</td>\n",
       "      <td>[A, RET, 0.025%, is, a, prescription, medicine...</td>\n",
       "    </tr>\n",
       "    <tr>\n",
       "      <th>2</th>\n",
       "      <td>3</td>\n",
       "      <td>ACGEL CL NANO Gel 15gm</td>\n",
       "      <td>[Acne]</td>\n",
       "      <td>[It, is, used, to, treat, acne, vulgaris, in, ...</td>\n",
       "    </tr>\n",
       "    <tr>\n",
       "      <th>3</th>\n",
       "      <td>4</td>\n",
       "      <td>ACGEL NANO Gel 15gm</td>\n",
       "      <td>[Acne]</td>\n",
       "      <td>[It, is, used, to, treat, acne, vulgaris, in, ...</td>\n",
       "    </tr>\n",
       "    <tr>\n",
       "      <th>4</th>\n",
       "      <td>5</td>\n",
       "      <td>Acleen 1% Lotion 25ml</td>\n",
       "      <td>[Acne]</td>\n",
       "      <td>[treat, the, most, severe, form, of, acne, (no...</td>\n",
       "    </tr>\n",
       "  </tbody>\n",
       "</table>\n",
       "</div>"
      ],
      "text/plain": [
       "   index                                          Drug_Name  Reason  \\\n",
       "0      1               A CN Gel(Topical) 20gmA CN Soap 75gm  [Acne]   \n",
       "1      2  A Ret 0.05% Gel 20gmA Ret 0.1% Gel 20gmA Ret 0...  [Acne]   \n",
       "2      3                             ACGEL CL NANO Gel 15gm  [Acne]   \n",
       "3      4                                ACGEL NANO Gel 15gm  [Acne]   \n",
       "4      5                              Acleen 1% Lotion 25ml  [Acne]   \n",
       "\n",
       "                                         Description  \n",
       "0                [Mild, to, moderate, acne, (spots)]  \n",
       "1  [A, RET, 0.025%, is, a, prescription, medicine...  \n",
       "2  [It, is, used, to, treat, acne, vulgaris, in, ...  \n",
       "3  [It, is, used, to, treat, acne, vulgaris, in, ...  \n",
       "4  [treat, the, most, severe, form, of, acne, (no...  "
      ]
     },
     "execution_count": 14,
     "metadata": {},
     "output_type": "execute_result"
    }
   ],
   "source": [
    "data. head ()"
   ]
  },
  {
   "cell_type": "code",
   "execution_count": 15,
   "id": "d702b099-7f99-4593-aa1a-d7c70319fe12",
   "metadata": {},
   "outputs": [],
   "source": [
    "data['Description'] = data['Description'].apply(lambda x : [i.replace(\" \", \"\") for i in x])"
   ]
  },
  {
   "cell_type": "code",
   "execution_count": 16,
   "id": "fc5a8229-01fc-4020-96ea-530a4950589d",
   "metadata": {},
   "outputs": [],
   "source": [
    "data['tags'] = data['Description'] + data['Reason']"
   ]
  },
  {
   "cell_type": "code",
   "execution_count": 17,
   "id": "c44f1432-0ae2-487d-87ee-dc12e148547d",
   "metadata": {},
   "outputs": [
    {
     "data": {
      "text/html": [
       "<div>\n",
       "<style scoped>\n",
       "    .dataframe tbody tr th:only-of-type {\n",
       "        vertical-align: middle;\n",
       "    }\n",
       "\n",
       "    .dataframe tbody tr th {\n",
       "        vertical-align: top;\n",
       "    }\n",
       "\n",
       "    .dataframe thead th {\n",
       "        text-align: right;\n",
       "    }\n",
       "</style>\n",
       "<table border=\"1\" class=\"dataframe\">\n",
       "  <thead>\n",
       "    <tr style=\"text-align: right;\">\n",
       "      <th></th>\n",
       "      <th>index</th>\n",
       "      <th>Drug_Name</th>\n",
       "      <th>Reason</th>\n",
       "      <th>Description</th>\n",
       "      <th>tags</th>\n",
       "    </tr>\n",
       "  </thead>\n",
       "  <tbody>\n",
       "    <tr>\n",
       "      <th>0</th>\n",
       "      <td>1</td>\n",
       "      <td>A CN Gel(Topical) 20gmA CN Soap 75gm</td>\n",
       "      <td>[Acne]</td>\n",
       "      <td>[Mild, to, moderate, acne, (spots)]</td>\n",
       "      <td>[Mild, to, moderate, acne, (spots), Acne]</td>\n",
       "    </tr>\n",
       "    <tr>\n",
       "      <th>1</th>\n",
       "      <td>2</td>\n",
       "      <td>A Ret 0.05% Gel 20gmA Ret 0.1% Gel 20gmA Ret 0...</td>\n",
       "      <td>[Acne]</td>\n",
       "      <td>[A, RET, 0.025%, is, a, prescription, medicine...</td>\n",
       "      <td>[A, RET, 0.025%, is, a, prescription, medicine...</td>\n",
       "    </tr>\n",
       "    <tr>\n",
       "      <th>2</th>\n",
       "      <td>3</td>\n",
       "      <td>ACGEL CL NANO Gel 15gm</td>\n",
       "      <td>[Acne]</td>\n",
       "      <td>[It, is, used, to, treat, acne, vulgaris, in, ...</td>\n",
       "      <td>[It, is, used, to, treat, acne, vulgaris, in, ...</td>\n",
       "    </tr>\n",
       "    <tr>\n",
       "      <th>3</th>\n",
       "      <td>4</td>\n",
       "      <td>ACGEL NANO Gel 15gm</td>\n",
       "      <td>[Acne]</td>\n",
       "      <td>[It, is, used, to, treat, acne, vulgaris, in, ...</td>\n",
       "      <td>[It, is, used, to, treat, acne, vulgaris, in, ...</td>\n",
       "    </tr>\n",
       "    <tr>\n",
       "      <th>4</th>\n",
       "      <td>5</td>\n",
       "      <td>Acleen 1% Lotion 25ml</td>\n",
       "      <td>[Acne]</td>\n",
       "      <td>[treat, the, most, severe, form, of, acne, (no...</td>\n",
       "      <td>[treat, the, most, severe, form, of, acne, (no...</td>\n",
       "    </tr>\n",
       "  </tbody>\n",
       "</table>\n",
       "</div>"
      ],
      "text/plain": [
       "   index                                          Drug_Name  Reason  \\\n",
       "0      1               A CN Gel(Topical) 20gmA CN Soap 75gm  [Acne]   \n",
       "1      2  A Ret 0.05% Gel 20gmA Ret 0.1% Gel 20gmA Ret 0...  [Acne]   \n",
       "2      3                             ACGEL CL NANO Gel 15gm  [Acne]   \n",
       "3      4                                ACGEL NANO Gel 15gm  [Acne]   \n",
       "4      5                              Acleen 1% Lotion 25ml  [Acne]   \n",
       "\n",
       "                                         Description  \\\n",
       "0                [Mild, to, moderate, acne, (spots)]   \n",
       "1  [A, RET, 0.025%, is, a, prescription, medicine...   \n",
       "2  [It, is, used, to, treat, acne, vulgaris, in, ...   \n",
       "3  [It, is, used, to, treat, acne, vulgaris, in, ...   \n",
       "4  [treat, the, most, severe, form, of, acne, (no...   \n",
       "\n",
       "                                                tags  \n",
       "0          [Mild, to, moderate, acne, (spots), Acne]  \n",
       "1  [A, RET, 0.025%, is, a, prescription, medicine...  \n",
       "2  [It, is, used, to, treat, acne, vulgaris, in, ...  \n",
       "3  [It, is, used, to, treat, acne, vulgaris, in, ...  \n",
       "4  [treat, the, most, severe, form, of, acne, (no...  "
      ]
     },
     "execution_count": 17,
     "metadata": {},
     "output_type": "execute_result"
    }
   ],
   "source": [
    "data.head()"
   ]
  },
  {
   "cell_type": "code",
   "execution_count": 18,
   "id": "55a5c729-1f10-46c8-8234-75650aee55c7",
   "metadata": {},
   "outputs": [],
   "source": [
    "new_data = data[['index', 'Drug_Name', 'tags']]"
   ]
  },
  {
   "cell_type": "code",
   "execution_count": 19,
   "id": "c5079dba-d8d4-435d-9b71-654b309e2b4a",
   "metadata": {},
   "outputs": [
    {
     "data": {
      "text/html": [
       "<div>\n",
       "<style scoped>\n",
       "    .dataframe tbody tr th:only-of-type {\n",
       "        vertical-align: middle;\n",
       "    }\n",
       "\n",
       "    .dataframe tbody tr th {\n",
       "        vertical-align: top;\n",
       "    }\n",
       "\n",
       "    .dataframe thead th {\n",
       "        text-align: right;\n",
       "    }\n",
       "</style>\n",
       "<table border=\"1\" class=\"dataframe\">\n",
       "  <thead>\n",
       "    <tr style=\"text-align: right;\">\n",
       "      <th></th>\n",
       "      <th>index</th>\n",
       "      <th>Drug_Name</th>\n",
       "      <th>tags</th>\n",
       "    </tr>\n",
       "  </thead>\n",
       "  <tbody>\n",
       "    <tr>\n",
       "      <th>0</th>\n",
       "      <td>1</td>\n",
       "      <td>A CN Gel(Topical) 20gmA CN Soap 75gm</td>\n",
       "      <td>[Mild, to, moderate, acne, (spots), Acne]</td>\n",
       "    </tr>\n",
       "    <tr>\n",
       "      <th>1</th>\n",
       "      <td>2</td>\n",
       "      <td>A Ret 0.05% Gel 20gmA Ret 0.1% Gel 20gmA Ret 0...</td>\n",
       "      <td>[A, RET, 0.025%, is, a, prescription, medicine...</td>\n",
       "    </tr>\n",
       "    <tr>\n",
       "      <th>2</th>\n",
       "      <td>3</td>\n",
       "      <td>ACGEL CL NANO Gel 15gm</td>\n",
       "      <td>[It, is, used, to, treat, acne, vulgaris, in, ...</td>\n",
       "    </tr>\n",
       "    <tr>\n",
       "      <th>3</th>\n",
       "      <td>4</td>\n",
       "      <td>ACGEL NANO Gel 15gm</td>\n",
       "      <td>[It, is, used, to, treat, acne, vulgaris, in, ...</td>\n",
       "    </tr>\n",
       "    <tr>\n",
       "      <th>4</th>\n",
       "      <td>5</td>\n",
       "      <td>Acleen 1% Lotion 25ml</td>\n",
       "      <td>[treat, the, most, severe, form, of, acne, (no...</td>\n",
       "    </tr>\n",
       "  </tbody>\n",
       "</table>\n",
       "</div>"
      ],
      "text/plain": [
       "   index                                          Drug_Name  \\\n",
       "0      1               A CN Gel(Topical) 20gmA CN Soap 75gm   \n",
       "1      2  A Ret 0.05% Gel 20gmA Ret 0.1% Gel 20gmA Ret 0...   \n",
       "2      3                             ACGEL CL NANO Gel 15gm   \n",
       "3      4                                ACGEL NANO Gel 15gm   \n",
       "4      5                              Acleen 1% Lotion 25ml   \n",
       "\n",
       "                                                tags  \n",
       "0          [Mild, to, moderate, acne, (spots), Acne]  \n",
       "1  [A, RET, 0.025%, is, a, prescription, medicine...  \n",
       "2  [It, is, used, to, treat, acne, vulgaris, in, ...  \n",
       "3  [It, is, used, to, treat, acne, vulgaris, in, ...  \n",
       "4  [treat, the, most, severe, form, of, acne, (no...  "
      ]
     },
     "execution_count": 19,
     "metadata": {},
     "output_type": "execute_result"
    }
   ],
   "source": [
    "new_data.head()"
   ]
  },
  {
   "cell_type": "code",
   "execution_count": 20,
   "id": "8921da95-53ea-43f8-8ef1-47949ea9247f",
   "metadata": {},
   "outputs": [
    {
     "name": "stderr",
     "output_type": "stream",
     "text": [
      "C:\\Users\\Hp\\AppData\\Local\\Temp\\ipykernel_16612\\2019840365.py:1: SettingWithCopyWarning: \n",
      "A value is trying to be set on a copy of a slice from a DataFrame.\n",
      "Try using .loc[row_indexer,col_indexer] = value instead\n",
      "\n",
      "See the caveats in the documentation: https://pandas.pydata.org/pandas-docs/stable/user_guide/indexing.html#returning-a-view-versus-a-copy\n",
      "  new_data['tags'] = new_data['tags'].apply(lambda x : \" \".join(x))\n"
     ]
    }
   ],
   "source": [
    "new_data['tags'] = new_data['tags'].apply(lambda x : \" \".join(x))"
   ]
  },
  {
   "cell_type": "code",
   "execution_count": 21,
   "id": "364cd158-3fae-42d6-82a3-9f7a068a4d8b",
   "metadata": {},
   "outputs": [
    {
     "name": "stderr",
     "output_type": "stream",
     "text": [
      "C:\\Users\\Hp\\AppData\\Local\\Temp\\ipykernel_16612\\805274915.py:1: SettingWithCopyWarning: \n",
      "A value is trying to be set on a copy of a slice from a DataFrame.\n",
      "Try using .loc[row_indexer,col_indexer] = value instead\n",
      "\n",
      "See the caveats in the documentation: https://pandas.pydata.org/pandas-docs/stable/user_guide/indexing.html#returning-a-view-versus-a-copy\n",
      "  new_data['tags'] = new_data['tags'].apply(lambda x : x.lower())\n"
     ]
    }
   ],
   "source": [
    "new_data['tags'] = new_data['tags'].apply(lambda x : x.lower())"
   ]
  },
  {
   "cell_type": "code",
   "execution_count": 22,
   "id": "44a804c9-8451-4bef-a949-3816c57c1266",
   "metadata": {},
   "outputs": [
    {
     "data": {
      "text/html": [
       "<div>\n",
       "<style scoped>\n",
       "    .dataframe tbody tr th:only-of-type {\n",
       "        vertical-align: middle;\n",
       "    }\n",
       "\n",
       "    .dataframe tbody tr th {\n",
       "        vertical-align: top;\n",
       "    }\n",
       "\n",
       "    .dataframe thead th {\n",
       "        text-align: right;\n",
       "    }\n",
       "</style>\n",
       "<table border=\"1\" class=\"dataframe\">\n",
       "  <thead>\n",
       "    <tr style=\"text-align: right;\">\n",
       "      <th></th>\n",
       "      <th>index</th>\n",
       "      <th>Drug_Name</th>\n",
       "      <th>tags</th>\n",
       "    </tr>\n",
       "  </thead>\n",
       "  <tbody>\n",
       "    <tr>\n",
       "      <th>0</th>\n",
       "      <td>1</td>\n",
       "      <td>A CN Gel(Topical) 20gmA CN Soap 75gm</td>\n",
       "      <td>mild to moderate acne (spots) acne</td>\n",
       "    </tr>\n",
       "    <tr>\n",
       "      <th>1</th>\n",
       "      <td>2</td>\n",
       "      <td>A Ret 0.05% Gel 20gmA Ret 0.1% Gel 20gmA Ret 0...</td>\n",
       "      <td>a ret 0.025% is a prescription medicine that i...</td>\n",
       "    </tr>\n",
       "    <tr>\n",
       "      <th>2</th>\n",
       "      <td>3</td>\n",
       "      <td>ACGEL CL NANO Gel 15gm</td>\n",
       "      <td>it is used to treat acne vulgaris in people 12...</td>\n",
       "    </tr>\n",
       "    <tr>\n",
       "      <th>3</th>\n",
       "      <td>4</td>\n",
       "      <td>ACGEL NANO Gel 15gm</td>\n",
       "      <td>it is used to treat acne vulgaris in people 12...</td>\n",
       "    </tr>\n",
       "    <tr>\n",
       "      <th>4</th>\n",
       "      <td>5</td>\n",
       "      <td>Acleen 1% Lotion 25ml</td>\n",
       "      <td>treat the most severe form of acne (nodular ac...</td>\n",
       "    </tr>\n",
       "  </tbody>\n",
       "</table>\n",
       "</div>"
      ],
      "text/plain": [
       "   index                                          Drug_Name  \\\n",
       "0      1               A CN Gel(Topical) 20gmA CN Soap 75gm   \n",
       "1      2  A Ret 0.05% Gel 20gmA Ret 0.1% Gel 20gmA Ret 0...   \n",
       "2      3                             ACGEL CL NANO Gel 15gm   \n",
       "3      4                                ACGEL NANO Gel 15gm   \n",
       "4      5                              Acleen 1% Lotion 25ml   \n",
       "\n",
       "                                                tags  \n",
       "0                 mild to moderate acne (spots) acne  \n",
       "1  a ret 0.025% is a prescription medicine that i...  \n",
       "2  it is used to treat acne vulgaris in people 12...  \n",
       "3  it is used to treat acne vulgaris in people 12...  \n",
       "4  treat the most severe form of acne (nodular ac...  "
      ]
     },
     "execution_count": 22,
     "metadata": {},
     "output_type": "execute_result"
    }
   ],
   "source": [
    "new_data.head()"
   ]
  },
  {
   "cell_type": "code",
   "execution_count": 24,
   "id": "86791f1c-4561-4e8a-b8b5-4561f88414da",
   "metadata": {},
   "outputs": [
    {
     "name": "stdout",
     "output_type": "stream",
     "text": [
      "Collecting nltk\n",
      "  Downloading nltk-3.8.1-py3-none-any.whl.metadata (2.8 kB)\n",
      "Collecting click (from nltk)\n",
      "  Using cached click-8.1.7-py3-none-any.whl.metadata (3.0 kB)\n",
      "Requirement already satisfied: joblib in c:\\users\\hp\\anaconda3\\envs\\myenv\\lib\\site-packages (from nltk) (1.4.2)\n",
      "Collecting regex>=2021.8.3 (from nltk)\n",
      "  Downloading regex-2024.7.24-cp39-cp39-win_amd64.whl.metadata (41 kB)\n",
      "     ---------------------------------------- 0.0/41.5 kB ? eta -:--:--\n",
      "     --------- ------------------------------ 10.2/41.5 kB ? eta -:--:--\n",
      "     ------------------ ------------------- 20.5/41.5 kB 330.3 kB/s eta 0:00:01\n",
      "     ---------------------------- --------- 30.7/41.5 kB 262.6 kB/s eta 0:00:01\n",
      "     -------------------------------------- 41.5/41.5 kB 287.2 kB/s eta 0:00:00\n",
      "Collecting tqdm (from nltk)\n",
      "  Downloading tqdm-4.66.5-py3-none-any.whl.metadata (57 kB)\n",
      "     ---------------------------------------- 0.0/57.6 kB ? eta -:--:--\n",
      "     ------- -------------------------------- 10.2/57.6 kB ? eta -:--:--\n",
      "     --------------------------------- ---- 51.2/57.6 kB 525.1 kB/s eta 0:00:01\n",
      "     -------------------------------------- 57.6/57.6 kB 509.3 kB/s eta 0:00:00\n",
      "Requirement already satisfied: colorama in c:\\users\\hp\\anaconda3\\envs\\myenv\\lib\\site-packages (from click->nltk) (0.4.6)\n",
      "Downloading nltk-3.8.1-py3-none-any.whl (1.5 MB)\n",
      "   ---------------------------------------- 0.0/1.5 MB ? eta -:--:--\n",
      "   ---------------------------------------- 0.0/1.5 MB ? eta -:--:--\n",
      "   - -------------------------------------- 0.0/1.5 MB 653.6 kB/s eta 0:00:03\n",
      "   -- ------------------------------------- 0.1/1.5 MB 651.6 kB/s eta 0:00:03\n",
      "   -- ------------------------------------- 0.1/1.5 MB 656.4 kB/s eta 0:00:03\n",
      "   --- ------------------------------------ 0.1/1.5 MB 607.9 kB/s eta 0:00:03\n",
      "   ---- ----------------------------------- 0.2/1.5 MB 615.9 kB/s eta 0:00:03\n",
      "   ----- ---------------------------------- 0.2/1.5 MB 621.6 kB/s eta 0:00:03\n",
      "   ----- ---------------------------------- 0.2/1.5 MB 625.1 kB/s eta 0:00:03\n",
      "   ------ --------------------------------- 0.3/1.5 MB 628.5 kB/s eta 0:00:02\n",
      "   ------- -------------------------------- 0.3/1.5 MB 610.3 kB/s eta 0:00:03\n",
      "   -------- ------------------------------- 0.3/1.5 MB 612.3 kB/s eta 0:00:02\n",
      "   -------- ------------------------------- 0.3/1.5 MB 617.1 kB/s eta 0:00:02\n",
      "   --------- ------------------------------ 0.4/1.5 MB 603.4 kB/s eta 0:00:02\n",
      "   ---------- ----------------------------- 0.4/1.5 MB 606.2 kB/s eta 0:00:02\n",
      "   ----------- ---------------------------- 0.4/1.5 MB 595.3 kB/s eta 0:00:02\n",
      "   ----------- ---------------------------- 0.5/1.5 MB 612.4 kB/s eta 0:00:02\n",
      "   ------------- -------------------------- 0.5/1.5 MB 603.9 kB/s eta 0:00:02\n",
      "   ------------- -------------------------- 0.5/1.5 MB 618.4 kB/s eta 0:00:02\n",
      "   -------------- ------------------------- 0.5/1.5 MB 596.8 kB/s eta 0:00:02\n",
      "   --------------- ------------------------ 0.6/1.5 MB 600.4 kB/s eta 0:00:02\n",
      "   --------------- ------------------------ 0.6/1.5 MB 591.8 kB/s eta 0:00:02\n",
      "   ---------------- ----------------------- 0.6/1.5 MB 586.0 kB/s eta 0:00:02\n",
      "   ----------------- ---------------------- 0.6/1.5 MB 588.9 kB/s eta 0:00:02\n",
      "   ------------------ --------------------- 0.7/1.5 MB 600.7 kB/s eta 0:00:02\n",
      "   ------------------ --------------------- 0.7/1.5 MB 593.5 kB/s eta 0:00:02\n",
      "   ------------------- -------------------- 0.7/1.5 MB 588.0 kB/s eta 0:00:02\n",
      "   -------------------- ------------------- 0.8/1.5 MB 598.5 kB/s eta 0:00:02\n",
      "   -------------------- ------------------- 0.8/1.5 MB 592.1 kB/s eta 0:00:02\n",
      "   --------------------- ------------------ 0.8/1.5 MB 594.3 kB/s eta 0:00:02\n",
      "   --------------------- ------------------ 0.8/1.5 MB 595.8 kB/s eta 0:00:02\n",
      "   ---------------------- ----------------- 0.9/1.5 MB 591.0 kB/s eta 0:00:02\n",
      "   ----------------------- ---------------- 0.9/1.5 MB 592.5 kB/s eta 0:00:02\n",
      "   ------------------------ --------------- 0.9/1.5 MB 595.7 kB/s eta 0:00:01\n",
      "   ------------------------- -------------- 1.0/1.5 MB 597.4 kB/s eta 0:00:01\n",
      "   ------------------------- -------------- 1.0/1.5 MB 592.3 kB/s eta 0:00:01\n",
      "   -------------------------- ------------- 1.0/1.5 MB 600.2 kB/s eta 0:00:01\n",
      "   --------------------------- ------------ 1.0/1.5 MB 596.1 kB/s eta 0:00:01\n",
      "   ---------------------------- ----------- 1.1/1.5 MB 598.0 kB/s eta 0:00:01\n",
      "   ----------------------------- ---------- 1.1/1.5 MB 594.2 kB/s eta 0:00:01\n",
      "   ------------------------------ --------- 1.1/1.5 MB 595.7 kB/s eta 0:00:01\n",
      "   ------------------------------- -------- 1.2/1.5 MB 602.4 kB/s eta 0:00:01\n",
      "   ------------------------------- -------- 1.2/1.5 MB 598.1 kB/s eta 0:00:01\n",
      "   --------------------------------- ------ 1.3/1.5 MB 596.6 kB/s eta 0:00:01\n",
      "   ---------------------------------- ----- 1.3/1.5 MB 597.9 kB/s eta 0:00:01\n",
      "   ---------------------------------- ----- 1.3/1.5 MB 595.0 kB/s eta 0:00:01\n",
      "   ----------------------------------- ---- 1.4/1.5 MB 596.2 kB/s eta 0:00:01\n",
      "   ------------------------------------ --- 1.4/1.5 MB 597.4 kB/s eta 0:00:01\n",
      "   ------------------------------------- -- 1.4/1.5 MB 598.2 kB/s eta 0:00:01\n",
      "   ------------------------------------- -- 1.4/1.5 MB 598.8 kB/s eta 0:00:01\n",
      "   -------------------------------------- - 1.5/1.5 MB 592.2 kB/s eta 0:00:01\n",
      "   ---------------------------------------  1.5/1.5 MB 593.4 kB/s eta 0:00:01\n",
      "   ---------------------------------------- 1.5/1.5 MB 592.8 kB/s eta 0:00:00\n",
      "Downloading regex-2024.7.24-cp39-cp39-win_amd64.whl (269 kB)\n",
      "   ---------------------------------------- 0.0/269.7 kB ? eta -:--:--\n",
      "   ---- ---------------------------------- 30.7/269.7 kB 660.6 kB/s eta 0:00:01\n",
      "   ------------- ------------------------- 92.2/269.7 kB 581.0 kB/s eta 0:00:01\n",
      "   ----------------- -------------------- 122.9/269.7 kB 654.9 kB/s eta 0:00:01\n",
      "   --------------------- ---------------- 153.6/269.7 kB 612.6 kB/s eta 0:00:01\n",
      "   --------------------------- ---------- 194.6/269.7 kB 655.9 kB/s eta 0:00:01\n",
      "   ---------------------------- --------- 204.8/269.7 kB 623.6 kB/s eta 0:00:01\n",
      "   ------------------------------------ - 256.0/269.7 kB 582.4 kB/s eta 0:00:01\n",
      "   -------------------------------------- 269.7/269.7 kB 593.8 kB/s eta 0:00:00\n",
      "Using cached click-8.1.7-py3-none-any.whl (97 kB)\n",
      "Downloading tqdm-4.66.5-py3-none-any.whl (78 kB)\n",
      "   ---------------------------------------- 0.0/78.4 kB ? eta -:--:--\n",
      "   ----- ---------------------------------- 10.2/78.4 kB ? eta -:--:--\n",
      "   ------------------------------- -------- 61.4/78.4 kB 825.8 kB/s eta 0:00:01\n",
      "   ---------------------------------------- 78.4/78.4 kB 724.6 kB/s eta 0:00:00\n",
      "Installing collected packages: tqdm, regex, click, nltk\n",
      "Successfully installed click-8.1.7 nltk-3.8.1 regex-2024.7.24 tqdm-4.66.5\n"
     ]
    }
   ],
   "source": [
    "!pip install nltk\n",
    "import nltk\n",
    "from nltk.stem.porter import PorterStemmer\n",
    "ps = PorterStemmer()"
   ]
  },
  {
   "cell_type": "code",
   "execution_count": 25,
   "id": "1d6f1e45-1014-4b8a-9ece-2a97ba5f62e5",
   "metadata": {},
   "outputs": [],
   "source": [
    "from sklearn.feature_extraction.text import CountVectorizer\n",
    "cv = CountVectorizer(stop_words = \"english\", max_features = 5000)"
   ]
  },
  {
   "cell_type": "code",
   "execution_count": 26,
   "id": "175addbe-7872-4518-9844-bd1cf1d2fb8c",
   "metadata": {},
   "outputs": [],
   "source": [
    "def stem(text):\n",
    "    y = []\n",
    "    for i in text.split():\n",
    "        y.append(ps.stem(i))\n",
    "    return \" \".join(y)"
   ]
  },
  {
   "cell_type": "code",
   "execution_count": 27,
   "id": "61ca300c-215d-4a45-978a-c81d718b7a61",
   "metadata": {},
   "outputs": [
    {
     "data": {
      "text/plain": [
       "'i have a run stomach'"
      ]
     },
     "execution_count": 27,
     "metadata": {},
     "output_type": "execute_result"
    }
   ],
   "source": [
    "stem(\"i have a running stomach\")"
   ]
  },
  {
   "cell_type": "code",
   "execution_count": 28,
   "id": "f03593b5-8e8c-4c67-adc8-d150d507e6bd",
   "metadata": {},
   "outputs": [
    {
     "name": "stderr",
     "output_type": "stream",
     "text": [
      "C:\\Users\\Hp\\AppData\\Local\\Temp\\ipykernel_16612\\1214595124.py:1: SettingWithCopyWarning: \n",
      "A value is trying to be set on a copy of a slice from a DataFrame.\n",
      "Try using .loc[row_indexer,col_indexer] = value instead\n",
      "\n",
      "See the caveats in the documentation: https://pandas.pydata.org/pandas-docs/stable/user_guide/indexing.html#returning-a-view-versus-a-copy\n",
      "  new_data['tags'] = new_data['tags'].apply(stem)\n"
     ]
    }
   ],
   "source": [
    "new_data['tags'] = new_data['tags'].apply(stem)"
   ]
  },
  {
   "cell_type": "code",
   "execution_count": 29,
   "id": "e44fedc8-3011-47e1-9e2c-b7328515dd9a",
   "metadata": {},
   "outputs": [
    {
     "data": {
      "text/html": [
       "<div>\n",
       "<style scoped>\n",
       "    .dataframe tbody tr th:only-of-type {\n",
       "        vertical-align: middle;\n",
       "    }\n",
       "\n",
       "    .dataframe tbody tr th {\n",
       "        vertical-align: top;\n",
       "    }\n",
       "\n",
       "    .dataframe thead th {\n",
       "        text-align: right;\n",
       "    }\n",
       "</style>\n",
       "<table border=\"1\" class=\"dataframe\">\n",
       "  <thead>\n",
       "    <tr style=\"text-align: right;\">\n",
       "      <th></th>\n",
       "      <th>index</th>\n",
       "      <th>Drug_Name</th>\n",
       "      <th>tags</th>\n",
       "    </tr>\n",
       "  </thead>\n",
       "  <tbody>\n",
       "    <tr>\n",
       "      <th>0</th>\n",
       "      <td>1</td>\n",
       "      <td>A CN Gel(Topical) 20gmA CN Soap 75gm</td>\n",
       "      <td>mild to moder acn (spots) acn</td>\n",
       "    </tr>\n",
       "    <tr>\n",
       "      <th>1</th>\n",
       "      <td>2</td>\n",
       "      <td>A Ret 0.05% Gel 20gmA Ret 0.1% Gel 20gmA Ret 0...</td>\n",
       "      <td>a ret 0.025% is a prescript medicin that is us...</td>\n",
       "    </tr>\n",
       "    <tr>\n",
       "      <th>2</th>\n",
       "      <td>3</td>\n",
       "      <td>ACGEL CL NANO Gel 15gm</td>\n",
       "      <td>it is use to treat acn vulgari in peopl 12 yea...</td>\n",
       "    </tr>\n",
       "    <tr>\n",
       "      <th>3</th>\n",
       "      <td>4</td>\n",
       "      <td>ACGEL NANO Gel 15gm</td>\n",
       "      <td>it is use to treat acn vulgari in peopl 12 yea...</td>\n",
       "    </tr>\n",
       "    <tr>\n",
       "      <th>4</th>\n",
       "      <td>5</td>\n",
       "      <td>Acleen 1% Lotion 25ml</td>\n",
       "      <td>treat the most sever form of acn (nodular acne...</td>\n",
       "    </tr>\n",
       "  </tbody>\n",
       "</table>\n",
       "</div>"
      ],
      "text/plain": [
       "   index                                          Drug_Name  \\\n",
       "0      1               A CN Gel(Topical) 20gmA CN Soap 75gm   \n",
       "1      2  A Ret 0.05% Gel 20gmA Ret 0.1% Gel 20gmA Ret 0...   \n",
       "2      3                             ACGEL CL NANO Gel 15gm   \n",
       "3      4                                ACGEL NANO Gel 15gm   \n",
       "4      5                              Acleen 1% Lotion 25ml   \n",
       "\n",
       "                                                tags  \n",
       "0                      mild to moder acn (spots) acn  \n",
       "1  a ret 0.025% is a prescript medicin that is us...  \n",
       "2  it is use to treat acn vulgari in peopl 12 yea...  \n",
       "3  it is use to treat acn vulgari in peopl 12 yea...  \n",
       "4  treat the most sever form of acn (nodular acne...  "
      ]
     },
     "execution_count": 29,
     "metadata": {},
     "output_type": "execute_result"
    }
   ],
   "source": [
    "new_data.head()"
   ]
  },
  {
   "cell_type": "code",
   "execution_count": 30,
   "id": "86dae6ed-f45b-4310-b68e-f5b99627eaf4",
   "metadata": {},
   "outputs": [],
   "source": [
    "vectors = cv.fit_transform(new_data['tags']).toarray()"
   ]
  },
  {
   "cell_type": "code",
   "execution_count": 31,
   "id": "9ad08853-2bf9-40b6-9c0c-18cf8a367aa0",
   "metadata": {},
   "outputs": [
    {
     "data": {
      "text/plain": [
       "(9720, 806)"
      ]
     },
     "execution_count": 31,
     "metadata": {},
     "output_type": "execute_result"
    }
   ],
   "source": [
    "vectors.shape"
   ]
  },
  {
   "cell_type": "code",
   "execution_count": 32,
   "id": "55523646-9f4b-476c-a4ff-18c5afa74baa",
   "metadata": {},
   "outputs": [
    {
     "data": {
      "text/plain": [
       "array(['025', '12', '16', '18', 'abdomin', 'abl', 'ach', 'acid', 'acn',\n",
       "       'acne', 'acquir', 'action', 'activ', 'acut', 'acute', 'adequ',\n",
       "       'adhd', 'adjunct', 'adolesc', 'adult', 'adults', 'affect', 'ag',\n",
       "       'age', 'aids', 'allerg', 'allergen', 'allergi', 'allow', 'alon',\n",
       "       'alzheim', 'alzheimer', 'alzheimerâ', 'amoebiasi', 'anaemia',\n",
       "       'anal', 'angina', 'angl', 'ani', 'ankylos', 'anorexia', 'anoth',\n",
       "       'anti', 'antioxid', 'antipsychot', 'antiretrovir', 'anxieti',\n",
       "       'anxiou', 'anxious', 'apnoea', 'appear', 'appetit', 'appetite',\n",
       "       'appli', 'appropri', 'area', 'arrhythmia', 'arrhythmiasi',\n",
       "       'arteri', 'arthralgia', 'arthriti', 'associ', 'atherothrombot',\n",
       "       'athleteâ', 'atop', 'atrial', 'attack', 'awak', 'b1', 'b2', 'b3',\n",
       "       'b5', 'b6', 'babi', 'backache', 'bacteri', 'bacteria', 'balanc',\n",
       "       'balanitis', 'bandag', 'becom', 'behaviour', 'beliefs', 'benefit',\n",
       "       'beta', 'biliari', 'biotin', 'bite', 'blackhead', 'blackheads',\n",
       "       'bleaches', 'bleed', 'bloating', 'block', 'blood', 'bodi', 'bodyâ',\n",
       "       'bon', 'bone', 'bones', 'bowel', 'brain', 'breakdown', 'breath',\n",
       "       'brighten', 'bronchiti', 'brown', 'bursitis', 'calcium', 'calm',\n",
       "       'cancer', 'candid', 'candidiasis', 'canâ', 'carbohydr',\n",
       "       'cardiovascular', 'care', 'carrier', 'cartilag', 'case', 'cases',\n",
       "       'cataract', 'caus', 'cavity', 'cell', 'certain', 'chanc', 'chang',\n",
       "       'characteris', 'chemic', 'chemotherapi', 'chest', 'chickenpox',\n",
       "       'childhood', 'children', 'chlosma', 'cholesterol', 'chronic',\n",
       "       'clean', 'cleaner', 'cleanser', 'clear', 'clot', 'cmv', 'cold',\n",
       "       'colds', 'colic', 'colon', 'colorect', 'coma', 'combin', 'common',\n",
       "       'complet', 'complexion', 'concomit', 'condit', 'conditions',\n",
       "       'confused', 'confusion', 'congestion', 'conjunct', 'consciousness',\n",
       "       'consid', 'consist', 'constip', 'constipation', 'constipationâ',\n",
       "       'continu', 'contracept', 'control', 'contusion', 'convent',\n",
       "       'convulsion', 'corpori', 'corticosteroid', 'cough', 'cramp',\n",
       "       'cream', 'cruri', 'cushion', 'cycl', 'cytomegaloviru',\n",
       "       'cytoprotect', 'd3', 'daili', 'damag', 'dandruff', 'dark', 'death',\n",
       "       'decreas', 'defici', 'degrad', 'degre', 'delay', 'demand',\n",
       "       'dementia', 'dental', 'deposit', 'depress', 'depressed', 'dermat',\n",
       "       'deterg', 'diabet', 'diagnost', 'diarrhea', 'diarrhoea', 'diet',\n",
       "       'differ', 'difficult', 'difficulti', 'digest', 'digestion',\n",
       "       'dilate', 'discolor', 'discoloured', 'diseas', 'disord',\n",
       "       'disorder', 'disorders', 'displac', 'distens', 'dizzi', 'doctor',\n",
       "       'doe', 'drain', 'drained', 'dri', 'drop', 'drowsi', 'drugs',\n",
       "       'dull', 'dure', 'dysmenorrhea', 'ear', 'ears', 'eczema', 'effect',\n",
       "       'effects', 'elbow', 'element', 'emot', 'encephalopathi',\n",
       "       'endometriosi', 'energi', 'energy', 'enhanc', 'enlarg', 'enzym',\n",
       "       'enzyme', 'epicondylitis', 'episod', 'especi', 'essenti', 'event',\n",
       "       'excess', 'exercis', 'exfoli', 'exocrin', 'extern', 'extra', 'eye',\n",
       "       'eyes', 'face', 'fade', 'fail', 'failur', 'failure', 'fast', 'fat',\n",
       "       'fatigue', 'fats', 'fatti', 'febril', 'feed', 'feel', 'feet',\n",
       "       'fever', 'feverish', 'fibril', 'fine', 'fissur', 'flat', 'flatul',\n",
       "       'flatulence', 'flexibl', 'flow', 'flu', 'fluid', 'flutter',\n",
       "       'focus', 'folic', 'follow', 'food', 'foot', 'form', 'format',\n",
       "       'free', 'fresh', 'friction', 'function', 'fungal', 'fungi',\n",
       "       'fungu', 'gain', 'gener', 'genit', 'gland', 'glaucoma', 'glow',\n",
       "       'gonorrhoea', 'good', 'gout', 'gradual', 'gravi', 'growth',\n",
       "       'guilty', 'gum', 'ha', 'haematopoiesi', 'haemorrhoid',\n",
       "       'haemorrhoidectomi', 'haemorrhoids', 'hair', 'hallucinations',\n",
       "       'hands', 'hard', 'hay', 'head', 'headach', 'headache', 'heal',\n",
       "       'health', 'healthy', 'hear', 'hearing', 'heart', 'heartbeat',\n",
       "       'help', 'hepat', 'herp', 'high', 'hiv', 'hives', 'hormon',\n",
       "       'hospit', 'human', 'hygien', 'hypercalcaemia', 'hyperparathyroid',\n",
       "       'hyperpigment', 'hyperpigmentation', 'hypertens', 'hypertension',\n",
       "       'hyperthyroid', 'hypertrophi', 'hypnosi', 'hypotens',\n",
       "       'hypothyroid', 'hypothyroidism', 'hyroid', 'ibs', 'immun',\n",
       "       'immunodefici', 'improv', 'improvesâ', 'includ', 'incoher',\n",
       "       'incomplet', 'increas', 'indic', 'indigest', 'induc', 'infect',\n",
       "       'infection', 'infections', 'infest', 'inflamm', 'inflammationâ',\n",
       "       'inflammatori', 'influenza', 'infrequ', 'inguinalis', 'inhal',\n",
       "       'inhibitor', 'injuri', 'inner', 'insect', 'insid', 'insomnia',\n",
       "       'insufficiencyâ', 'integr', 'intens', 'interdigit', 'intern',\n",
       "       'interrupt', 'intestin', 'intestinal', 'intoler', 'invas',\n",
       "       'involuntari', 'iodine', 'iritis', 'iron', 'irrit', 'isâ', 'itch',\n",
       "       'itâ', 'jewelleri', 'jock', 'joint', 'kidney', 'kit', 'knees',\n",
       "       'known', 'lack', 'lactat', 'lead', 'learning', 'left', 'level',\n",
       "       'lice', 'life', 'ligaments', 'line', 'lip', 'liquid', 'liv',\n",
       "       'live', 'liver', 'long', 'look', 'lose', 'loss', 'lotion', 'lower',\n",
       "       'lowersâ', 'lowerâ', 'lung', 'lvh', 'mainli', 'maintain', 'major',\n",
       "       'make', 'malari', 'malaria', 'malignancies', 'manag', 'manganese',\n",
       "       'mani', 'manuum', 'marrow', 'medic', 'medicin', 'melanin',\n",
       "       'melasma', 'mellitu', 'memori', 'men', 'mening', 'menopaus',\n",
       "       'mental', 'metabol', 'methyl', 'micronutri', 'migrain', 'migraine',\n",
       "       'mild', 'milk', 'miner', 'minor', 'mistaken', 'mobil', 'moder',\n",
       "       'moderate', 'moistur', 'molybdenum', 'motion', 'movement',\n",
       "       'movements', 'muscl', 'muscular', 'musculoskelet', 'myalgia',\n",
       "       'myasthenia', 'mydriasi', 'myeloid', 'narrow', 'nasal', 'natur',\n",
       "       'nausea', 'need', 'nephropathy', 'nerv', 'nervosa', 'nervousness',\n",
       "       'nettl', 'neuralgia', 'neutral', 'newborns', 'nodular', 'non',\n",
       "       'normal', 'nose', 'nutrient', 'nutrit', 'occur', 'ocular', 'ofâ',\n",
       "       'oili', 'older', 'onli', 'op', 'open', 'oper', 'oral', 'origin',\n",
       "       'osteoarthr', 'osteodystrophy', 'osteoporosi', 'oxid', 'oxidation',\n",
       "       'pah', 'pain', 'pancrea', 'paralys', 'parathyroid', 'parkinson',\n",
       "       'parkinsonâ', 'passag', 'patch', 'patches', 'patient', 'patientsâ',\n",
       "       'pectori', 'pectoris', 'pedis', 'pelvic', 'penil', 'peopl',\n",
       "       'peptid', 'period', 'physic', 'piles', 'pimpl', 'pimple',\n",
       "       'pityriasi', 'polysaccharid', 'portal', 'post', 'potent', 'power',\n",
       "       'pre', 'prednisolon', 'pregnanc', 'prematur', 'preoper',\n",
       "       'prescrib', 'prescript', 'present', 'pressur', 'prevent', 'prexia',\n",
       "       'primari', 'prinzmet', 'problem', 'procedur', 'process',\n",
       "       'proctiti', 'produc', 'product', 'progress', 'prolactin', 'promot',\n",
       "       'properti', 'protect', 'provid', 'pseudo', 'psychosi',\n",
       "       'psychosomat', 'pulmonari', 'pupil', 'pyrexia', 'rabi', 'radicals',\n",
       "       'radiculitis', 'rais', 'rarer', 'rash', 'react', 'reaction',\n",
       "       'receiv', 'recommend', 'red', 'reduc', 'reduct', 'refer',\n",
       "       'regener', 'regimen', 'relat', 'releief', 'relief', 'reliev',\n",
       "       'reliv', 'remov', 'renal', 'repair', 'replac', 'reproduct',\n",
       "       'resist', 'respiratori', 'respond', 'respons', 'restor', 'ret',\n",
       "       'retin', 'rheumat', 'ring', 'ringworm', 'root', 'rosacea', 'scabi',\n",
       "       'scali', 'scalp', 'scar', 'schizophren', 'schizophrenia',\n",
       "       'seborrh', 'sed', 'sedat', 'sens', 'sever', 'shingl', 'short',\n",
       "       'sick', 'sickness', 'silki', 'simpl', 'simplex', 'sinusitis',\n",
       "       'skelet', 'skin', 'skinâ', 'sleep', 'slow', 'small', 'smoke',\n",
       "       'smooth', 'soaps', 'soar', 'soft', 'soften', 'soothen', 'sore',\n",
       "       'sores', 'spasmod', 'speech', 'speed', 'spondyl', 'spot', 'spots',\n",
       "       'sprain', 'spread', 'stabil', 'starch', 'start', 'state',\n",
       "       'steroids', 'stiff', 'stomach', 'stools', 'stop', 'strains',\n",
       "       'strengthen', 'stroke', 'structur', 'substanc', 'suffer', 'sugar',\n",
       "       'sunburn', 'sunscreen', 'suppl', 'supplement', 'support',\n",
       "       'surgeri', 'surgeryâ', 'surgic', 'suspiciousness', 'sweat',\n",
       "       'swell', 'swelling', 'swollen', 'symptom', 'symptomat', 'symptoms',\n",
       "       'syndrom', 'synovi', 'synovitis', 'synthesi', 'synthet',\n",
       "       'syphilis', 'tablet', 'tachycardia', 'task', 'temperature',\n",
       "       'tender', 'tendonitis', 'tens', 'term', 'textur', 'therapi',\n",
       "       'therebi', 'thi', 'thing', 'throat', 'thrombolysi', 'thrush',\n",
       "       'thu', 'thyroid', 'thyroxin', 'time', 'tinea', 'tinnitus', 'tissu',\n",
       "       'tissues', 'toe', 'tone', 'tonsil', 'tonsilitis', 'tonsillectomi',\n",
       "       'toothach', 'toothache', 'topic', 'trace', 'tract', 'transmit',\n",
       "       'transplant', 'trauma', 'traumat', 'travel', 'treat', 'treatment',\n",
       "       'treatsâ', 'treatâ', 'tremor', 'triglycerid', 'tubercular', 'type',\n",
       "       'ulcer', 'unabl', 'unbalanc', 'uncompl', 'uneven', 'unstabl',\n",
       "       'unusu', 'unwant', 'upper', 'uptak', 'urate', 'uretericâ', 'uric',\n",
       "       'urinaryâ', 'use', 'uses', 'usual', 'uveiti', 'vaccin', 'vagin',\n",
       "       'variant', 'varieti', 'ventricular', 'verruca', 'versicolor',\n",
       "       'vertigo', 'vessel', 'viral', 'viru', 'virus', 'vitamin',\n",
       "       'vitamins', 'volume', 'vomit', 'vulgari', 'vulgarisâ', 'wall',\n",
       "       'wart', 'wash', 'weak', 'weaken', 'weight', 'wet', 'whichâ',\n",
       "       'whilst', 'white', 'widen', 'withdrawn', 'womb', 'women', 'work',\n",
       "       'worsen', 'wound', 'wrinkl', 'wrinkles', 'year', 'younger', 'zinc',\n",
       "       'œpancreat'], dtype=object)"
      ]
     },
     "execution_count": 32,
     "metadata": {},
     "output_type": "execute_result"
    }
   ],
   "source": [
    "cv.get_feature_names_out()"
   ]
  },
  {
   "cell_type": "code",
   "execution_count": 33,
   "id": "e3cd425d-b397-46ee-9710-19537c7a4118",
   "metadata": {},
   "outputs": [],
   "source": [
    "from sklearn.metrics.pairwise import cosine_similarity"
   ]
  },
  {
   "cell_type": "code",
   "execution_count": 34,
   "id": "5cc0f842-bb98-415e-a3c3-acd73263eb20",
   "metadata": {},
   "outputs": [],
   "source": [
    "similarity = cosine_similarity(vectors)"
   ]
  },
  {
   "cell_type": "code",
   "execution_count": 35,
   "id": "2515a57c-b255-4f05-afd8-87cdbefcb0f4",
   "metadata": {},
   "outputs": [
    {
     "data": {
      "text/plain": [
       "array([0.25197632, 1.        , 0.25660012, ..., 0.19245009, 0.1490712 ,\n",
       "       0.0860663 ])"
      ]
     },
     "execution_count": 35,
     "metadata": {},
     "output_type": "execute_result"
    }
   ],
   "source": [
    "similarity[1]"
   ]
  },
  {
   "cell_type": "code",
   "execution_count": 43,
   "id": "c3a4870e-210d-4e15-8fe6-b5e151ea937a",
   "metadata": {},
   "outputs": [],
   "source": [
    "def recommendation(medicine):\n",
    "    medicine_index = new_data[new_data['Drug_Name'] == medicine].index[0]\n",
    "    distance = similarity[medicine_index]\n",
    "    medicine_list = sorted(list(enumerate(distance)), reverse=True, key = lambda x : x[1])[1:6]\n",
    "    for i in medicine_list:\n",
    "        print(new_data.iloc[i[0]].Drug_Name)"
   ]
  },
  {
   "cell_type": "code",
   "execution_count": 45,
   "id": "0d63ec83-4629-42e4-b306-8998cbf9f096",
   "metadata": {},
   "outputs": [
    {
     "name": "stdout",
     "output_type": "stream",
     "text": [
      "Betadine AD Shampoo 60ml\n",
      "Burn Cur Cream 20gm\n",
      "Cetrilak Vet Soap 75gmCetrilak Soap 75gmCetrilak Baby Soap 75gmCetrilak Plus Soap 75gmCetrilak Mild Solution 100ml\n",
      "Drez 10X10Cm Tulle\n",
      "GLENIGUARD 5% Ointment 20gm\n"
     ]
    }
   ],
   "source": [
    "recommendation(\"Wounsol Ointment 15gm\")"
   ]
  },
  {
   "cell_type": "code",
   "execution_count": 46,
   "id": "26cee5cb-69b4-4727-b2f5-323b266d235d",
   "metadata": {},
   "outputs": [],
   "source": [
    "import pickle\n",
    "pickle.dump(new_data.to_dict(), open(\"medicine_dict.pkl\", \"wb\"))\n",
    "pickle.dump(similarity, open(\"similarity.pkl\", \"wb\"))"
   ]
  },
  {
   "cell_type": "code",
   "execution_count": null,
   "id": "2ea3f2eb-af23-4126-8a83-2087431db63d",
   "metadata": {},
   "outputs": [],
   "source": []
  }
 ],
 "metadata": {
  "kernelspec": {
   "display_name": "Python 3 (ipykernel)",
   "language": "python",
   "name": "python3"
  },
  "language_info": {
   "codemirror_mode": {
    "name": "ipython",
    "version": 3
   },
   "file_extension": ".py",
   "mimetype": "text/x-python",
   "name": "python",
   "nbconvert_exporter": "python",
   "pygments_lexer": "ipython3",
   "version": "3.9.19"
  }
 },
 "nbformat": 4,
 "nbformat_minor": 5
}
